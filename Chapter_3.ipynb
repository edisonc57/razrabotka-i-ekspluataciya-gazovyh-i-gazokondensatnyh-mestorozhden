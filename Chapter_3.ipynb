{
  "nbformat": 4,
  "nbformat_minor": 0,
  "metadata": {
    "colab": {
      "provenance": [],
      "mount_file_id": "1DCqquVcgdhVASR0TMKy0aMV-a0Gx1vjC",
      "authorship_tag": "ABX9TyNNwy/D09zqLEtajixd69js",
      "include_colab_link": true
    },
    "kernelspec": {
      "name": "python3",
      "display_name": "Python 3"
    },
    "language_info": {
      "name": "python"
    }
  },
  "cells": [
    {
      "cell_type": "markdown",
      "metadata": {
        "id": "view-in-github",
        "colab_type": "text"
      },
      "source": [
        "<a href=\"https://colab.research.google.com/github/edisonc57/razrabotka-i-ekspluataciya-gazovyh-i-gazokondensatnyh-mestorozhden/blob/main/Chapter_3.ipynb\" target=\"_parent\"><img src=\"https://colab.research.google.com/assets/colab-badge.svg\" alt=\"Open In Colab\"/></a>"
      ]
    },
    {
      "cell_type": "code",
      "source": [
        "import numpy as np\n",
        "import pandas as pd\n",
        "\n",
        "datos=  pd.read_excel('/content/drive/MyDrive/Colab Notebooks/Book1.xlsx', sheet_name= \"Composición\")\n",
        "datos_numpy = np.array(datos)\n",
        "\n",
        "Berezovskoe= datos_numpy[0, 2:9]\n",
        "Berezovskoe_array = np.array(Berezovskoe)\n",
        "#print(Berezovskoe_array)\n",
        "\n",
        "Peso_molecular = datos_numpy[10, 2:9]\n",
        "Peso_molecular_array = np.array(Peso_molecular)\n",
        "#print(Peso_molecular)\n",
        "\n",
        "producto_escalar = np.dot(Berezovskoe_array,  Peso_molecular_array)\n",
        "#print(producto_escalar)\n",
        "suma_productos = np.sum(producto_escalar)\n",
        "print(\"El peso molecular de la mezcla del horizonte productivo\", datos_numpy[0,1], \"es\", suma_productos/100)\n",
        "\n",
        "\n",
        "\n",
        "#Berezovskoe = datos.iloc[0]\n",
        "#componentes_Be=Berezovskoe[2:9].to_numpy()\n",
        "\n",
        "#Masa_molecular= datos.iloc[10]\n",
        "#Masa_m=Masa_molecular[2:9].to_numpy()\n",
        "\n",
        "\n",
        "\n",
        "\n",
        "\n"
      ],
      "metadata": {
        "colab": {
          "base_uri": "https://localhost:8080/"
        },
        "id": "2YnL8Lq_n6PR",
        "outputId": "60d08749-24f7-419c-957b-6bdfedd27475"
      },
      "execution_count": 4,
      "outputs": [
        {
          "output_type": "stream",
          "name": "stdout",
          "text": [
            "El peso molecular de la mezcla del horizonte productivo P (jurásico) es 16.906059699999997\n"
          ]
        }
      ]
    },
    {
      "cell_type": "code",
      "source": [],
      "metadata": {
        "id": "SjRP-AMFlZru"
      },
      "execution_count": 11,
      "outputs": []
    },
    {
      "cell_type": "code",
      "source": [],
      "metadata": {
        "id": "Z4sCDtA2sfhJ"
      },
      "execution_count": null,
      "outputs": []
    }
  ]
}